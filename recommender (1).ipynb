{
 "cells": [
  {
   "cell_type": "markdown",
   "metadata": {
    "colab_type": "text",
    "id": "BX1ljMzxXBIR"
   },
   "source": [
    "# **Collaborative Filtering**\n"
   ]
  },
  {
   "cell_type": "code",
   "execution_count": null,
   "metadata": {
    "colab": {
     "base_uri": "https://localhost:8080/",
     "height": 367
    },
    "colab_type": "code",
    "id": "DoJS9nWGcf9X",
    "outputId": "1a098576-b516-470d-d0f0-c1d4892c60df"
   },
   "outputs": [],
   "source": [
    "import pandas as pd\n",
    "from surprise import Dataset\n",
    "from surprise import Reader\n",
    "\n",
    "# This is the same data that was plotted for similarity earlier\n",
    "# with one new user \"E\" who has rated only movie 1\n",
    "ratings_dict = {\n",
    "    \"item\": [1, 2, 1, 2, 1, 2, 1, 2, 1],\n",
    "    \"user\": ['A', 'A', 'B', 'B', 'C', 'C', 'D', 'D', 'E'],\n",
    "    \"rating\": [1, 2, 2, 4, 2.5, 4, 4.5, 5, 3],\n",
    "}\n",
    "\n",
    "df = pd.DataFrame(ratings_dict)\n",
    "reader = Reader(rating_scale=(1, 5))\n",
    "\n",
    "# Loads Pandas dataframe\n",
    "data = Dataset.load_from_df(df[[\"user\", \"item\", \"rating\"]], reader)"
   ]
  },
  {
   "cell_type": "code",
   "execution_count": null,
   "metadata": {
    "colab": {},
    "colab_type": "code",
    "id": "uEXtQVMWckMO"
   },
   "outputs": [],
   "source": [
    "from surprise import KNNWithMeans\n",
    "\n",
    "# To use item-based cosine similarity\n",
    "sim_options = {\n",
    "    \"name\": \"cosine\",\n",
    "    \"user_based\": False,  # Compute  similarities between items\n",
    "}\n",
    "algo = KNNWithMeans(sim_options=sim_options)"
   ]
  },
  {
   "cell_type": "code",
   "execution_count": null,
   "metadata": {
    "colab": {
     "base_uri": "https://localhost:8080/",
     "height": 69
    },
    "colab_type": "code",
    "id": "FKGiOaHjcqq7",
    "outputId": "4300c264-5c9c-4217-d2ee-70dee00c54b7"
   },
   "outputs": [],
   "source": [
    "trainingSet = data.build_full_trainset()\n",
    "algo.fit(trainingSet)\n",
    "\n",
    "prediction = algo.predict('E', 2)\n",
    "prediction.est"
   ]
  },
  {
   "cell_type": "code",
   "execution_count": null,
   "metadata": {
    "colab": {
     "base_uri": "https://localhost:8080/",
     "height": 52
    },
    "colab_type": "code",
    "id": "Kf28Urz9dMap",
    "outputId": "c58e06c5-bd70-4287-b22f-b892b3325cee"
   },
   "outputs": [],
   "source": [
    "from surprise import SVD\n",
    "from surprise.model_selection import GridSearchCV\n",
    "\n",
    "# Loads the builtin Movielens-100k data\n",
    "movielens = Dataset.load_builtin('ml-100k')\n",
    "\n",
    "param_grid = {\n",
    "    \"n_epochs\": [5, 10],\n",
    "    \"lr_all\": [0.002, 0.005],\n",
    "    \"reg_all\": [0.4, 0.6]\n",
    "}\n",
    "gs = GridSearchCV(SVD, param_grid, measures=[\"rmse\", \"mae\"], cv=3)\n",
    "\n",
    "gs.fit(movielens)\n",
    "\n",
    "print(gs.best_score[\"rmse\"])\n",
    "print(gs.best_params[\"rmse\"])"
   ]
  },
  {
   "cell_type": "code",
   "execution_count": null,
   "metadata": {
    "colab": {},
    "colab_type": "code",
    "id": "hQZBxkYEdYHw"
   },
   "outputs": [],
   "source": [
    "algo = SVD(n_epochs=10, lr_all= 0.005, reg_all= 0.6)"
   ]
  },
  {
   "cell_type": "code",
   "execution_count": null,
   "metadata": {
    "colab": {
     "base_uri": "https://localhost:8080/",
     "height": 35
    },
    "colab_type": "code",
    "id": "-Isfb2VNc3oQ",
    "outputId": "60910b2e-fdfb-4322-f924-d1c12b565bf5"
   },
   "outputs": [],
   "source": [
    "trainingSet = data.build_full_trainset()\n",
    "algo.fit(trainingSet)\n",
    "\n",
    "prediction = algo.predict('E', 2)\n",
    "prediction.est"
   ]
  },
  {
   "cell_type": "markdown",
   "metadata": {
    "colab_type": "text",
    "id": "AppKo0kAYrGk"
   },
   "source": [
    "# **Content-based recommender system for movies**\n"
   ]
  },
  {
   "cell_type": "code",
   "execution_count": null,
   "metadata": {
    "colab": {
     "base_uri": "https://localhost:8080/",
     "height": 938
    },
    "colab_type": "code",
    "id": "2cNtVpFlYrGn",
    "outputId": "3eb56c48-500a-4cac-e4a9-da2ff9c95722"
   },
   "outputs": [],
   "source": [
    "import pandas as pd\n",
    "!pip install rake_nltk\n",
    "from rake_nltk import Rake\n",
    "import numpy as np\n",
    "from sklearn.metrics.pairwise import cosine_similarity\n",
    "from sklearn.feature_extraction.text import CountVectorizer\n",
    "\n",
    "pd.set_option('display.max_columns', 100)\n",
    "df = pd.read_csv('https://query.data.world/s/uikepcpffyo2nhig52xxeevdialfl7')\n",
    "df.head()"
   ]
  },
  {
   "cell_type": "code",
   "execution_count": null,
   "metadata": {
    "colab": {
     "base_uri": "https://localhost:8080/",
     "height": 34
    },
    "colab_type": "code",
    "id": "CMuT7sTqYrGr",
    "outputId": "002bd5ad-439c-4fbd-9598-230263ebfab3"
   },
   "outputs": [],
   "source": [
    "df.shape"
   ]
  },
  {
   "cell_type": "markdown",
   "metadata": {
    "colab_type": "text",
    "id": "vBWdqNZFYrGu"
   },
   "source": [
    "Choosing the features that I want to base my recommendations on."
   ]
  },
  {
   "cell_type": "code",
   "execution_count": null,
   "metadata": {
    "colab": {
     "base_uri": "https://localhost:8080/",
     "height": 279
    },
    "colab_type": "code",
    "id": "Rsyg-35ZYrGu",
    "outputId": "59da86fa-a4c0-4ebb-e58e-b3ed863bc69d"
   },
   "outputs": [],
   "source": [
    "df = df[['Title','Genre','Director','Actors','Plot']]\n",
    "df.head()"
   ]
  },
  {
   "cell_type": "code",
   "execution_count": null,
   "metadata": {
    "colab": {},
    "colab_type": "code",
    "id": "6PZgBP7tYrGw",
    "outputId": "21a846f7-4cd4-4fc7-cc51-6741506bb136"
   },
   "outputs": [],
   "source": [
    "df.shape"
   ]
  },
  {
   "cell_type": "markdown",
   "metadata": {
    "colab_type": "text",
    "id": "B1Y25V6uYrGz"
   },
   "source": [
    "Transforming the full names of actors and directors in single words so they are considered as unique values."
   ]
  },
  {
   "cell_type": "code",
   "execution_count": null,
   "metadata": {
    "colab": {},
    "colab_type": "code",
    "id": "_M3D9CyPYrGz"
   },
   "outputs": [],
   "source": [
    "# discarding the commas between the actors' full names and getting only the first three names\n",
    "df['Actors'] = df['Actors'].map(lambda x: x.split(',')[:3])\n",
    "\n",
    "# putting the genres in a list of words\n",
    "df['Genre'] = df['Genre'].map(lambda x: x.lower().split(','))\n",
    "\n",
    "df['Director'] = df['Director'].map(lambda x: x.split(' '))\n",
    "\n",
    "# merging together first and last name for each actor and director, so it's considered as one word \n",
    "# and there is no mix up between people sharing a first name\n",
    "for index, row in df.iterrows():\n",
    "    row['Actors'] = [x.lower().replace(' ','') for x in row['Actors']]\n",
    "    row['Director'] = ''.join(row['Director']).lower()"
   ]
  },
  {
   "cell_type": "markdown",
   "metadata": {
    "colab_type": "text",
    "id": "bevKyJBMYrG1"
   },
   "source": [
    "Extracting the key words from the plot description."
   ]
  },
  {
   "cell_type": "code",
   "execution_count": null,
   "metadata": {
    "colab": {},
    "colab_type": "code",
    "id": "Z7Dcd1BrYrG2"
   },
   "outputs": [],
   "source": [
    "# initializing the new column\n",
    "df['Key_words'] = \"\"\n",
    "\n",
    "for index, row in df.iterrows():\n",
    "    plot = row['Plot']\n",
    "    \n",
    "    # instantiating Rake, by default is uses english stopwords from NLTK\n",
    "    # and discard all puntuation characters\n",
    "    r = Rake()\n",
    "\n",
    "    # extracting the words by passing the text\n",
    "    r.extract_keywords_from_text(plot)\n",
    "\n",
    "    # getting the dictionary with key words and their scores\n",
    "    key_words_dict_scores = r.get_word_degrees()\n",
    "    \n",
    "    # assigning the key words to the new column\n",
    "    row['Key_words'] = list(key_words_dict_scores.keys())\n",
    "\n",
    "# dropping the Plot column\n",
    "df.drop(columns = ['Plot'], inplace = True)"
   ]
  },
  {
   "cell_type": "code",
   "execution_count": null,
   "metadata": {
    "colab": {
     "base_uri": "https://localhost:8080/",
     "height": 261
    },
    "colab_type": "code",
    "id": "aEPyAABZYrG4",
    "outputId": "f45bb78d-84de-43a2-f988-0666e6e6ab45"
   },
   "outputs": [],
   "source": [
    "df.set_index('Title', inplace = True)\n",
    "df.head()"
   ]
  },
  {
   "cell_type": "code",
   "execution_count": null,
   "metadata": {
    "colab": {},
    "colab_type": "code",
    "id": "ACEJ5sF5YrG6"
   },
   "outputs": [],
   "source": [
    "df['bag_of_words'] = ''\n",
    "columns = df.columns\n",
    "for index, row in df.iterrows():\n",
    "    words = ''\n",
    "    for col in columns:\n",
    "        if col != 'Director':\n",
    "            words = words + ' '.join(row[col])+ ' '\n",
    "        else:\n",
    "            words = words + row[col]+ ' '\n",
    "    row['bag_of_words'] = words\n",
    "    \n",
    "df.drop(columns = [col for col in df.columns if col!= 'bag_of_words'], inplace = True)"
   ]
  },
  {
   "cell_type": "code",
   "execution_count": null,
   "metadata": {
    "colab": {
     "base_uri": "https://localhost:8080/",
     "height": 195
    },
    "colab_type": "code",
    "id": "3EMykL7HYrG8",
    "outputId": "6b6aa1d0-1d05-4a83-d05f-af07ef43516e"
   },
   "outputs": [],
   "source": [
    "df.head()"
   ]
  },
  {
   "cell_type": "code",
   "execution_count": null,
   "metadata": {
    "colab": {
     "base_uri": "https://localhost:8080/",
     "height": 118
    },
    "colab_type": "code",
    "id": "wIEJnlGUYrG-",
    "outputId": "7d95c661-d0bc-425e-e2b3-fa4ae3276b88"
   },
   "outputs": [],
   "source": [
    "# instantiating and generating the count matrix\n",
    "count = CountVectorizer()\n",
    "count_matrix = count.fit_transform(df['bag_of_words'])\n",
    "\n",
    "# creating a Series for the movie titles so they are associated to an ordered numerical\n",
    "# list I will use later to match the indexes\n",
    "indices = pd.Series(df.index)\n",
    "indices[:5]"
   ]
  },
  {
   "cell_type": "code",
   "execution_count": null,
   "metadata": {
    "colab": {
     "base_uri": "https://localhost:8080/",
     "height": 247
    },
    "colab_type": "code",
    "id": "ZdT0j3jzYrHA",
    "outputId": "ba051799-e1a3-4252-aed0-26669cd87948"
   },
   "outputs": [],
   "source": [
    "# generating the cosine similarity matrix\n",
    "cosine_sim = cosine_similarity(count_matrix, count_matrix)\n",
    "cosine_sim"
   ]
  },
  {
   "cell_type": "code",
   "execution_count": null,
   "metadata": {
    "colab": {},
    "colab_type": "code",
    "id": "l07r6V2nYrHC"
   },
   "outputs": [],
   "source": [
    "# function that takes in movie title as input and returns the top 10 recommended movies\n",
    "def recommendations(title, cosine_sim = cosine_sim):\n",
    "    \n",
    "    recommended_movies = []\n",
    "    \n",
    "    # gettin the index of the movie that matches the title\n",
    "    idx = indices[indices == title].index[0]\n",
    "\n",
    "    # creating a Series with the similarity scores in descending order\n",
    "    score_series = pd.Series(cosine_sim[idx]).sort_values(ascending = False)\n",
    "\n",
    "    # getting the indexes of the 10 most similar movies\n",
    "    top_10_indexes = list(score_series.iloc[1:11].index)\n",
    "    \n",
    "    # populating the list with the titles of the best 10 matching movies\n",
    "    for i in top_10_indexes:\n",
    "        recommended_movies.append(list(df.index)[i])\n",
    "        \n",
    "    return recommended_movies"
   ]
  },
  {
   "cell_type": "code",
   "execution_count": null,
   "metadata": {
    "colab": {},
    "colab_type": "code",
    "id": "Z6HRkHMCYrHE",
    "outputId": "45e5cbfa-6de9-4a64-c7aa-21db12a3fa78"
   },
   "outputs": [],
   "source": [
    "recommendations('The Godfather')"
   ]
  },
  {
   "cell_type": "code",
   "execution_count": null,
   "metadata": {
    "colab": {},
    "colab_type": "code",
    "id": "BoUn0TkL3x4r"
   },
   "outputs": [],
   "source": []
  }
 ],
 "metadata": {
  "accelerator": "GPU",
  "colab": {
   "name": "recommender.ipynb",
   "provenance": [],
   "toc_visible": true
  },
  "kernelspec": {
   "display_name": "Python 3",
   "language": "python",
   "name": "python3"
  },
  "language_info": {
   "codemirror_mode": {
    "name": "ipython",
    "version": 3
   },
   "file_extension": ".py",
   "mimetype": "text/x-python",
   "name": "python",
   "nbconvert_exporter": "python",
   "pygments_lexer": "ipython3",
   "version": "3.7.2"
  }
 },
 "nbformat": 4,
 "nbformat_minor": 1
}
